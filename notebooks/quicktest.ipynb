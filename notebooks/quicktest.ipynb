{
 "cells": [
  {
   "cell_type": "code",
   "execution_count": 1,
   "metadata": {},
   "outputs": [],
   "source": [
    "from typing import Annotated, get_type_hints\n",
    "\n",
    "def calculate_distance(speed: Annotated[int, 'km/h'], time: Annotated[int, 'hours']) -> int:\n",
    "    print(type(speed))  # Prints: <class 'int'>\n",
    "    print(type(time))   # Prints: <class 'int'>\n",
    "    \n",
    "    # Get metadata (annotations) from the function parameters\n",
    "    type_hints = get_type_hints(calculate_distance, include_extras=True)\n",
    "    \n",
    "    # Extract metadata for 'speed' and 'time'\n",
    "    speed_metadata = type_hints['speed'].__metadata__[0]\n",
    "    time_metadata = type_hints['time'].__metadata__[0]\n",
    "    \n",
    "    print(f\"Speed unit: {speed_metadata}\")  # Prints: Speed unit: km/h\n",
    "    print(f\"Time unit: {time_metadata}\")   # Prints: Time unit: hours\n",
    "    \n",
    "    return speed * time\n",
    "\n"
   ]
  },
  {
   "cell_type": "code",
   "execution_count": 2,
   "metadata": {},
   "outputs": [
    {
     "name": "stdout",
     "output_type": "stream",
     "text": [
      "<class 'int'>\n",
      "<class 'int'>\n",
      "Speed unit: km/h\n",
      "Time unit: hours\n",
      "Distance: 120 km\n"
     ]
    }
   ],
   "source": [
    "# Test the function\n",
    "distance = calculate_distance(60, 2)\n",
    "print(f\"Distance: {distance} km\")  # Prints: Distance: 120 km"
   ]
  },
  {
   "cell_type": "code",
   "execution_count": 3,
   "metadata": {},
   "outputs": [
    {
     "name": "stdout",
     "output_type": "stream",
     "text": [
      "{'messages': ['1', '2']}\n",
      "{'messages': ['1', '2']}\n"
     ]
    }
   ],
   "source": [
    "from typing import TypedDict, List, Annotated\n",
    "\n",
    "class State(TypedDict):\n",
    "    \"\"\"\n",
    "    Represent the structure of the state used in graph\n",
    "    \"\"\"\n",
    "    messages: Annotated[List, \"test\"]\n",
    "\n",
    "state1 : State = {\"messages\": [\"1\", \"2\"]}\n",
    "state2 = State(messages=[\"1\", \"2\"])\n",
    "\n",
    "print(state1)\n",
    "print(state2)"
   ]
  },
  {
   "cell_type": "code",
   "execution_count": 4,
   "metadata": {},
   "outputs": [
    {
     "name": "stdout",
     "output_type": "stream",
     "text": [
      "{'messages': ['1', '2'], 'additional_info': 'test'}\n"
     ]
    }
   ],
   "source": [
    "state1[\"additional_info\"] = \"test\"\n",
    "print(state1)"
   ]
  },
  {
   "cell_type": "code",
   "execution_count": 7,
   "metadata": {},
   "outputs": [],
   "source": [
    "state2[\"messages\"] = \"test\""
   ]
  },
  {
   "cell_type": "code",
   "execution_count": 9,
   "metadata": {},
   "outputs": [
    {
     "name": "stdout",
     "output_type": "stream",
     "text": [
      "<class 'function'>\n"
     ]
    }
   ],
   "source": [
    "from langgraph.graph.message import add_messages\n",
    "\n",
    "print(type(add_messages))"
   ]
  },
  {
   "cell_type": "code",
   "execution_count": 10,
   "metadata": {},
   "outputs": [
    {
     "ename": "ValueError",
     "evalue": "not enough values to unpack (expected 2, got 1)",
     "output_type": "error",
     "traceback": [
      "\u001b[31m---------------------------------------------------------------------------\u001b[39m",
      "\u001b[31mValueError\u001b[39m                                Traceback (most recent call last)",
      "\u001b[36mCell\u001b[39m\u001b[36m \u001b[39m\u001b[32mIn[10]\u001b[39m\u001b[32m, line 17\u001b[39m\n\u001b[32m     14\u001b[39m     \u001b[38;5;28mprint\u001b[39m(\u001b[33mf\u001b[39m\u001b[33m\"\u001b[39m\u001b[33mAge \u001b[39m\u001b[38;5;132;01m{\u001b[39;00mage\u001b[38;5;132;01m}\u001b[39;00m\u001b[33m is valid.\u001b[39m\u001b[33m\"\u001b[39m)\n\u001b[32m     16\u001b[39m \u001b[38;5;66;03m# Example usage\u001b[39;00m\n\u001b[32m---> \u001b[39m\u001b[32m17\u001b[39m \u001b[43mprocess_age\u001b[49m\u001b[43m(\u001b[49m\u001b[32;43m50\u001b[39;49m\u001b[43m)\u001b[49m\n\u001b[32m     18\u001b[39m \u001b[38;5;28;01mtry\u001b[39;00m:\n\u001b[32m     19\u001b[39m     process_age(\u001b[32m150\u001b[39m)\n",
      "\u001b[36mCell\u001b[39m\u001b[36m \u001b[39m\u001b[32mIn[10]\u001b[39m\u001b[32m, line 11\u001b[39m, in \u001b[36mprocess_age\u001b[39m\u001b[34m(age)\u001b[39m\n\u001b[32m      9\u001b[39m \u001b[38;5;28;01mdef\u001b[39;00m\u001b[38;5;250m \u001b[39m\u001b[34mprocess_age\u001b[39m(age: Age):\n\u001b[32m     10\u001b[39m     \u001b[38;5;66;03m# Access the metadata at runtime\u001b[39;00m\n\u001b[32m---> \u001b[39m\u001b[32m11\u001b[39m     _, validator = Age.__metadata__\n\u001b[32m     12\u001b[39m     \u001b[38;5;28;01mif\u001b[39;00m \u001b[38;5;129;01mnot\u001b[39;00m validator(age):\n\u001b[32m     13\u001b[39m         \u001b[38;5;28;01mraise\u001b[39;00m \u001b[38;5;167;01mValueError\u001b[39;00m(\u001b[33mf\u001b[39m\u001b[33m\"\u001b[39m\u001b[33mAge \u001b[39m\u001b[38;5;132;01m{\u001b[39;00mage\u001b[38;5;132;01m}\u001b[39;00m\u001b[33m is out of valid range.\u001b[39m\u001b[33m\"\u001b[39m)\n",
      "\u001b[31mValueError\u001b[39m: not enough values to unpack (expected 2, got 1)"
     ]
    }
   ],
   "source": [
    "from typing import Annotated\n",
    "\n",
    "def validation_function(value: int) -> bool:\n",
    "    \"\"\"A sample validation function.\"\"\"\n",
    "    return 0 <= value <= 100\n",
    "\n",
    "Age = Annotated[int, validation_function]\n",
    "\n",
    "def process_age(age: Age):\n",
    "    # Access the metadata at runtime\n",
    "    _, validator = Age.__metadata__\n",
    "    if not validator(age):\n",
    "        raise ValueError(f\"Age {age} is out of valid range.\")\n",
    "    print(f\"Age {age} is valid.\")\n",
    "\n",
    "# Example usage\n",
    "process_age(50)\n",
    "try:\n",
    "    process_age(150)\n",
    "except ValueError as e:\n",
    "    print(e)"
   ]
  },
  {
   "cell_type": "code",
   "execution_count": 4,
   "metadata": {},
   "outputs": [],
   "source": [
    "from tavily import TavilyClient\n",
    "import os"
   ]
  },
  {
   "cell_type": "code",
   "execution_count": null,
   "metadata": {},
   "outputs": [],
   "source": [
    "os.environ[\"TAVILY_API_KEY\"]='***************************'\n",
    "tavily = TavilyClient()\n"
   ]
  },
  {
   "cell_type": "code",
   "execution_count": 10,
   "metadata": {},
   "outputs": [],
   "source": [
    "response = tavily.search(\n",
    "                query = \"Top Artificial Intelligence (AI) news Globally and UK\",\n",
    "                topic = \"news\",\n",
    "                time_range = 'w',\n",
    "                include_answer=\"advanced\",\n",
    "                max_results=20,\n",
    "                days = 7\n",
    "                )"
   ]
  },
  {
   "cell_type": "code",
   "execution_count": 13,
   "metadata": {},
   "outputs": [
    {
     "data": {
      "text/plain": [
       "{'query': 'Top Artificial Intelligence (AI) news Globally and UK',\n",
       " 'follow_up_questions': None,\n",
       " 'answer': \"**Global AI News:**\\n\\nMeta and Oakley are launching AI-powered glasses this summer, while Meta has also invested significantly in startup Scale AI and brought on its CEO for AI development efforts. OpenAI CEO Sam Altman recently stated that ChatGPT is already more powerful than any human, and revealed that Meta offered OpenAI staff $100 million signing bonuses to poach talent. Amazon's CEO has indicated that AI could lead to a smaller corporate workforce. AMD unveiled its latest chips with OpenAI among its customers, while Uber has expanded its AI solutions business by setting up a new foundry.\\n\\nLegal battles are intensifying as Anthropic won a ruling that AI training on copyrighted books doesn't break the law, though they must still face trial on pirated books. Meta has launched a lawsuit against a 'nudify' AI company over Facebook and Instagram ads. North Korea's BlueNoroff group is using AI deepfakes to push Mac malware through fake Zoom calls, representing a new cybersecurity threat.\\n\\nThe Trump administration has moved to deregulate AI and autonomous vehicles, prioritizing the removal of restrictions on artificial intelligence that powers driver-assistance functions and robotaxis. In the financial sector, banking is being reimagined in the age of AI, with new research suggesting that AI exposure has not caused widespread harm to workers' mental health and may even improve physical health among less educated employees.\\n\\n**UK AI News:**\\n\\nInnovate UK has partnered with PwC to launch an AI skills hub, while job growth in industries exposed to AI has seen a rapid drop. The UK government is pursuing an £18 billion IT services tender as part of a massive drive to adopt AI across the public sector. A new University of Birmingham-led research hub called Co-AIMS aims to revolutionize UK manufacturing through AI to help achieve Net Zero by 2050.\\n\\nThe BBC has threatened legal action against AI startup Perplexity over content scraping, marking the corporation's first move to protect its content from being used without permission to build AI technology. Perplexity has rejected the BBC's legal claims over AI-driven news content reuse. The Cambridge Dictionary has added a new definition for 'slop' to reflect low-quality content created by AI, highlighting growing concerns about AI-generated material.\\n\\nUK insurance customers are increasingly warming to AI use in the industry, with the insurance sector leading\",\n",
       " 'images': [],\n",
       " 'results': [{'url': 'https://www.consultancy.uk/news/40565/innovate-uk-partners-with-pwc-to-launch-ai-skills-hub',\n",
       "   'title': 'Innovate UK partners with PwC to launch AI skills hub - Consultancy.uk',\n",
       "   'score': 0.48191768,\n",
       "   'published_date': 'Fri, 20 Jun 2025 04:05:29 GMT',\n",
       "   'content': \"Image 7Consultancy.uk **PwC** is not a United Kingdom partner of Consultancy.org  Image 30: Job growth in industries 'exposed to AI' sees rapid drop United Kingdom Image 38: Job growth in industries 'exposed to AI' sees rapid drop United Kingdom Image 46: Job growth in industries 'exposed to AI' sees rapid drop United Kingdom *   Image 52: Government must not ‘put the cart before the horse’ with new AI tender  Government must not ‘put the cart before the horse’ with new AI tender The UK government’s £18 billion IT services tender, led by the Crown Commercial Service comes as part of a huge drive to adopt AI across the public sector – even as the technology is still to prove i 13 June 2025  \",\n",
       "   'raw_content': None},\n",
       "  {'url': 'https://www.investopedia.com/meta-and-oakley-are-launching-ai-powered-glasses-this-summer-11758359',\n",
       "   'title': 'Meta and Oakley Are Launching AI-Powered Glasses This Summer - Investopedia',\n",
       "   'score': 0.45696765,\n",
       "   'published_date': 'Fri, 20 Jun 2025 17:52:50 GMT',\n",
       "   'content': 'Image 3: Meta CEO Mark Zuckerberg speaks at Meta Connect.:max_bytes(150000):strip_icc():format(webp)/GettyImages-2173579327-bb2b7dc5214f4270bdc58f8bb7df35e2.jpg) Meta Plans to Poach AI Startup Safe Superintelligence\\'s CEO After Failed Buyout, Report SaysImage 5: Open AI CEO Sam Altman speaks during Snowflake Summit 2025.:max_bytes(150000):strip_icc():format(webp)/GettyImages-2218344211-86cd046e842a44d0a4e33bd185d837b3.jpg) \\'ChatGPT Is Already More Powerful Than Any Human,\\' OpenAI CEO Sam Altman SaysImage 7: A Uber car is seen on the street in Krakow, Poland.:max_bytes(150000):strip_icc():format(webp)/GettyImages-2203322672-6a1b368ae5464a96afcc6e316695249b.jpg) Uber Expands AI Solutions Business, Sets Up New FoundryImage 9: Open AI CEO Sam Altman speaks during Snowflake Summit 2025 in San Francisco.:max_bytes(150000):strip_icc():format(webp)/GettyImages-2218344193-0d066c041a8647289246bbee931609dd.jpg) Sam Altman Says Meta Offered OpenAI Staff $100M Signing BonusesImage 11: Scale AI headquarters.:max_bytes(150000):strip_icc():format(webp)/GettyImages-2218457787-7afaea4355494f25acce8a6b5fa05785.jpg) Meta Invests Big in Startup Scale AI, Brings On Its CEO for AI Development EffortsImage 13: The Meta Platforms logo is seen on a phone screen, with the company\\'s stock chart in the background.:max_bytes(150000):strip_icc():format(webp)/GettyImages-2212099154-19462e8939ed487d9604907b8f46d36a.jpg) Meta Launches Lawsuit Against \\'Nudify\\' AI Company Over Facebook, Instagram AdsImage 15: Amazon CEO Andy Jassy speaks at Alexa unveiling event:max_bytes(150000):strip_icc():format(webp)/GettyImages-2201489688-b375b9f0ea9145d49eafcc8a6c69d8c6.jpg) Amazon\\'s CEO Tells Staff AI Could Lead to a Smaller Corporate WorkforceImage 17: AMD\\'s \"Advancing AI\" event:max_bytes(150000):strip_icc():format(webp)/Screenshot2025-06-12at4.58.35PM-2a3e218f561c45d09abce715571008a6.jpeg) AMD Unveils Its Latest Chips, With ChatGPT Maker OpenAI Among Its Customers',\n",
       "   'raw_content': None},\n",
       "  {'url': 'https://www.themanufacturer.com/articles/new-research-hub-could-revolutionise-ai-based-manufacturing/',\n",
       "   'title': 'New research hub could revolutionise AI-based manufacturing - The Manufacturer',\n",
       "   'score': 0.4430467,\n",
       "   'published_date': 'Fri, 20 Jun 2025 00:35:33 GMT',\n",
       "   'content': '# New research hub could revolutionise AI-based manufacturing **A new University of Birmingham-led research hub aims to revolutionise UK manufacturing through Artificial Intelligence (AI) to help achieve Net Zero by 2050.** Professor Niels Lohse commented: “The successful funding of the Co-AIMS Hub marks a significant milestone in the UK’s journey towards sustainable and productive manufacturing. Professor Stephen Jarvis, Provost of the University of Birmingham, commented: “The University of Birmingham undoubtedly has great research strength in AI and manufacturing technology, but only by leveraging effective academic and industrial partnerships will we make the progress needed to tackle the challenges that lie ahead. The Hub will contribute to delivering economic growth in the UK – addressing barriers such as technology adoption, data, and skills to support AI’s potential to make the country’s manufacturing more sustainable and help deliver greater productivity.',\n",
       "   'raw_content': None},\n",
       "  {'url': 'https://www.hotelnewsresource.com/article136968.html',\n",
       "   'title': 'How Artificial Intelligence is Transforming Guest Satisfaction in Hotels - Hotel News Resource',\n",
       "   'score': 0.42319635,\n",
       "   'published_date': 'Mon, 23 Jun 2025 12:52:31 GMT',\n",
       "   'content': 'How Artificial Intelligence is Transforming Guest Satisfaction in Hotels How Artificial Intelligence is Transforming Guest Satisfaction in Hotels Hotel News Resource June, 23 2025  *   Image 4: Illustration of 5 stars representing high guest satisfactionHow Artificial Intelligence is Transforming Guest Satisfaction in Hotels - Image Credit Unsplash+  125 Data & Insights, based in the U.K., writes that the hospitality sector is undergoing a significant transformation, driven by Artificial Intelligence (AI) integration and fundamentally reshaping the guest experience by providing personalized, predictive, and impactful interactions. #### Connect with Hotel News Resource #### Hotel News Resource News More Hotel News Resource News→ ### Enhancing Guest Experience at Your Hotel with Technology and Hospitality - By Heather Apse #### Daily Hotel Industry News',\n",
       "   'raw_content': None},\n",
       "  {'url': 'https://www.theguardian.com/media/2025/jun/20/bbc-threatens-legal-action-against-ai-startup-over-content-scraping',\n",
       "   'title': 'BBC threatens legal action against AI startup over content scraping - The Guardian',\n",
       "   'score': 0.36990723,\n",
       "   'published_date': 'Fri, 20 Jun 2025 08:43:00 GMT',\n",
       "   'content': 'BBC threatens legal action against AI startup over content scraping | BBC | The Guardian *   The Guardian view The BBC is threatening legal action against Perplexity AI, in the corporation’s first move to protect its content from being scraped without permission to build artificial intelligence technology. *   Image 19   ### Workers in UK need to embrace AI or risk being left behind, minister says 6d ago        *   Image 20   ### Israel-Iran war live Foreign ministers from Europe and Iran to hold talks as US says it is still deciding whether to join war 44m ago        *   Image 25   ### Media Rise in ‘alert fatigue’ risks phone users disabling news notifications, study finds 5h ago        *   Most viewed Across the Guardian',\n",
       "   'raw_content': None},\n",
       "  {'url': 'https://apnews.com/article/anthropic-ai-fair-use-copyright-pirated-libraries-1e5cece51c2e4bd0bb21d94de2abb035',\n",
       "   'title': 'Anthropic wins ruling on AI training in copyright lawsuit but must face trial on pirated books - AP News',\n",
       "   'score': 0.36100754,\n",
       "   'published_date': 'Tue, 24 Jun 2025 20:40:00 GMT',\n",
       "   'content': 'Anthropic wins ruling on AI training in copyright lawsuit but must face trial on pirated books | AP News In a test case for the artificial intelligence industry, a federal judge has ruled that AI company Anthropic didn’t break the law by training its chatbot Claude on millions of copyrighted books. Getty drops copyright allegations in UK lawsuit against Stability AI Getty Images has dropped copyright infringement allegations from its lawsuit against artificial intelligence company Stability AI.AP News If you are a resident of a US state with applicable laws, you may opt out of the sale of your personal info or sharing/processing of your personal information for targeted advertising in the “Manage Your Privacy Choices” section below.',\n",
       "   'raw_content': None},\n",
       "  {'url': 'https://www.insurancetimes.co.uk/news/more-uk-insurance-customers-warming-to-ai-use-in-industry/1455420.article',\n",
       "   'title': 'More UK insurance customers warming to AI use in industry - Insurance Times',\n",
       "   'score': 0.3365278,\n",
       "   'published_date': 'Thu, 19 Jun 2025 14:26:15 GMT',\n",
       "   'content': 'Image 1: Insurance Times Image 2 Image 3: Insurance Times *   Image 7: GettyImages-1513463138 Insurance Times partners with new brand FlarePeople to uncover pricing talent pain points *   Image 24: digital, etrading, five star Insurance Times reveals headline results of 2025 eTrading survey *   Image 27: Fraud Tackling fraudulent claims across the insurance industry – Gallagher Bassett Image 42 *   Image 44: AI### Insurance sector leads the way in adopting artificial intelligence – Hyland *   Image 46: AI (2)### How to get started with artificial intelligence in the insurance sector – Inawisdom *   Image 47: car premiums fall### Car insurance premiums continue ‘retreat’ from all-time high in 2023 Image 66: X https://www.insurancetimes.co.uk/news/more-uk-insurance-customers-warming-to-ai-use-in-industry/1455420.article',\n",
       "   'raw_content': None},\n",
       "  {'url': 'https://gizmodo.com/judge-finds-ai-companies-can-use-some-copyrighted-works-to-fuel-their-sludge-2000619677',\n",
       "   'title': 'Judge Rules AI Companies Can Use Some Copyrighted Works to Fuel Their Sludge - Gizmodo',\n",
       "   'score': 0.32251582,\n",
       "   'published_date': 'Tue, 24 Jun 2025 20:10:53 GMT',\n",
       "   'content': 'Get the best tech, science, and culture news in your inbox daily. *   Image 5: The Grok logo is being displayed on a smartphone screen in Athens, Greece, on July 22, 2024.Tech News Elon Musk’s AI Called My Mother Abusive. *   Image 7: Elon Musk on May 30, 2025 in the Oval Office of the White House in Washington.Tech News Artificial Intelligence Elon Says He’s Working to ‘Fix’ Grok After AI Disagrees With Him on Right-Wing Violence --------------------------------------------------------------------------------------- Musk thinks his AI is corrupted by the \"legacy media.\" By Matt Novak Published June 18, 2025     *   Image 9: Anti Ice Protests In Los Angeles June 12Tech News Artificial Intelligence I Asked AI to Create a Pro-ICE Chant.',\n",
       "   'raw_content': None},\n",
       "  {'url': 'https://www.insurancetimes.co.uk/news/hiscox-declares-industry-first-with-use-of-wildfire-modelling-tool-in-london-market/1455578.article',\n",
       "   'title': '\\u200bHiscox declares industry first with use of wildfire modelling tool in London market - Insurance Times',\n",
       "   'score': 0.30856565,\n",
       "   'published_date': 'Mon, 23 Jun 2025 12:36:04 GMT',\n",
       "   'content': 'Image 1: Insurance Times Image 2 Image 3: Insurance Times *   Image 7: GettyImages-1513463138 Insurance Times partners with new brand FlarePeople to uncover pricing talent pain points *   Image 24: digital, etrading, five star Insurance Times reveals headline results of 2025 eTrading survey In this partnership, Hiscox London market’s property division will work alongside the Bellwether team to integrate its artificial intelligence (AI)-powered wildfire tool alongside existing risk scoring and modelling. James Brady, Hiscox London market’s property divisional director, said: “This partnership allows us to integrate the very latest AI-powered modelling from Bellwether with other third-party models and our own advanced risk modelling framework. Image 42 *   Image 45: Adam Atkins 01-15 (1)### Hiscox UK enhances technology insurance with explicit AI claims coverage Image 66: X https://www.insurancetimes.co.uk/news/hiscox-declares-industry-first-with-use-of-wildfire-modelling-tool-in-london-market/1455578.article',\n",
       "   'raw_content': None},\n",
       "  {'url': 'https://deadline.com/2025/06/equity-artificiail-intelligence-open-letter-pact-actors-informed-consent-1236440792/',\n",
       "   'title': 'Equity Posts Artificial Intelligence Open Letter To Pact - Deadline',\n",
       "   'score': 0.30756646,\n",
       "   'published_date': 'Tue, 24 Jun 2025 10:41:00 GMT',\n",
       "   'content': 'Image 3: AI actor digitally scanned **EXCLUSIVE:**Thousands of UK actors have been “digitally scanned on set without their informed consent,” according to an open letter from Brit actors union Equity urging progress on artificial intelligence as it returns to the negotiating table with Pact. Equity said it has put forward “a constructive proposal” including “important provisions on AI training, which the union has made clear is a red line in these negotiations.” “We will not accept any deal that does not grant us key protections for the use of our personal data for training AI systems and creating AI-generated performances,” it added today. Adding to the confusion, the BBC and ITV’s separate agreements with Equityfailed to include artificial intelligence safeguardsas the broadcasters did not want to include them until the Equity-Pact negotiations are resolved.',\n",
       "   'raw_content': None},\n",
       "  {'url': 'https://www.thebookseller.com/news/cambridge-dictionary-adds-new-definition-for-slop-to-reflect-low-quality-content-created-by-ai',\n",
       "   'title': \"Cambridge Dictionary adds new definition for 'slop' to reflect 'low-quality content created by AI' - The Bookseller\",\n",
       "   'score': 0.27416596,\n",
       "   'published_date': 'Tue, 24 Jun 2025 11:47:08 GMT',\n",
       "   'content': 'Image 1: Subscribe Today Image 12: Books from Czechia Image 13 An AI-related definition of the word \"slop\" has entered the Cambridge Dictionary for the first time, \"reflecting growing concerns about increasing amounts of low-quality content created by AI\". Image 34: \\'I fear for those at the start of their careers\\': Bookseller AI survey highlights trade\\'s concernsImage 35: 21exclusiveLabel1.svg Image 36: TikTok publisher 8th Note Press looks set to close as authors \\'negotiate rights return\\' Image 48: \\'I fear for those at the start of their careers\\': Bookseller AI survey highlights trade\\'s concernsImage 49: 21exclusiveLabel1.svg Image 50: How will AI change the novel? Image 54 Image 55: YouTube Image 56: Twitter Image 57: LinkedIn Image 58: Facebook Image 59: Instagram',\n",
       "   'raw_content': None},\n",
       "  {'url': 'https://www.govtech.com/artificial-intelligence/governments-want-artificial-intelligence-but-adoption-lags',\n",
       "   'title': 'Governments Want Artificial Intelligence, but Adoption Lags - GovTech',\n",
       "   'score': 0.2529884,\n",
       "   'published_date': 'Wed, 18 Jun 2025 21:36:19 GMT',\n",
       "   'content': 'Published Time: June 18, 2025 *   Artificial Intelligence *   Cybersecurity *   Lohrmann on Cybersecurity *   Emerging Tech *   Emergency Management *   Artificial Intelligence *   Cybersecurity *   Lohrmann on Cybersecurity *   Emerging Tech *   Emergency Management Show Search Artificial Intelligence June 18, 2025• In the public sector, AI has a wide range of applications and the technology is rapidly evolving, but AI readiness in the public sector relies on a strong foundation, and experts argue that involves both data management and policy. However, there are specific barriers to adoption, as outlined in the report, with 62 percent of respondents citing data privacy and security concerns as high hurdles to AI adoption. The document also suggests that organizations start with high-value use cases for AI, with a clear ROI and human impact.',\n",
       "   'raw_content': None},\n",
       "  {'url': 'https://www.pymnts.com/artificial-intelligence-2/2025/perplexity-rejects-bbcs-legal-claims-over-ai-driven-news-content-reuse/',\n",
       "   'title': 'Perplexity Rejects BBC’s Legal Claims Over AI-Driven News Content Reuse - PYMNTS.com',\n",
       "   'score': 0.23293816,\n",
       "   'published_date': 'Fri, 20 Jun 2025 13:18:45 GMT',\n",
       "   'content': \"The BBC has threatened legal action against AI search engine Perplexity, escalating tensions between publishers and technology firms over the use of copyrighted news content to train artificial intelligence models. According to the Financial Times and other published reports, in a letter to Perplexity CEO Aravind Srinivas, the BBC alleges that Perplexity’s “default AI model” was trained using BBC material and demands the startup cease all scraping of its content, delete any copies used for AI development, and propose financial compensation for the alleged infringement. Image 4: BBC Perplexity Rejects BBC’s Legal Claims Over AI-Driven News Content Reuse See More In: AI, Aravind Srinivas, artificial intelligence, bbc, copyright, legal, News, Perplexity, PYMNTS News, What's Hot Image 11: BBC Perplexity Rejects BBC’s Legal Claims Over AI-Driven News Content Reuse\",\n",
       "   'raw_content': None},\n",
       "  {'url': 'https://www.raconteur.net/technology/uk-industrial-strategy',\n",
       "   'title': 'What tech leaders need to know about the UK’s industrial strategy - Raconteur',\n",
       "   'score': 0.2062062,\n",
       "   'published_date': 'Mon, 23 Jun 2025 12:16:50 GMT',\n",
       "   'content': '# What tech leaders need to know about the UK’s industrial strategy Energy subsidies for heavy industry, new skills initiatives and renewed focus on improving regional clusters of tech expertise form part of the strategy\\xa0document A major component here, outlined further in the separate Industrial Strategy Digital And Technologies Sector Plan, is the development of regional clusters that aim to further support existing expertise in those regions – for instance, boosting semiconductor research in Wales and quantum R&D funding in\\xa0Scotland. The industrial strategy draws attention to the £2bn previously committed to the UK AI Action Plan, plus the Sovereign AI Programme recently teased at London Tech\\xa0Week.',\n",
       "   'raw_content': None},\n",
       "  {'url': 'https://www.newsweek.com/nw-ai/ai-impact-awards-2025-science-engineering-2084754',\n",
       "   'title': 'AI Impact Awards 2025: The Changing Human Role in Science and Engineering - Newsweek',\n",
       "   'score': 0.2048667,\n",
       "   'published_date': 'Wed, 25 Jun 2025 10:02:01 GMT',\n",
       "   'content': \"AI Impact Awards 2025: The Changing Human Role in Science and Engineering - Newsweek Anuj Kapur, the president and CEO of software delivery company CloudBees, said artificial intelligence (AI) will help solve many of humanity's most pressing problems. Image 4: AI Impact Awards: Science and Engineering CloudBees is one of the companies recognized by _Newsweek's_ AI Impact Awards, which highlights companies across a dozen industries that are adopting AI tools to improve both internal and external operations for their business and their clients. Every Cure is the overall winner of _Newsweek's_ AI Impact Awards and it's using AI to advance drug engineering to treat some of the world's rarest and most aggressive diseases. NEWSWEEK.AI - [x] Newsweek AI (Weekly) \",\n",
       "   'raw_content': None},\n",
       "  {'url': 'https://www.csoonline.com/article/4009603/north-koreas-bluenoroff-uses-ai-deepfakes-to-push-mac-malware-in-fake-zoom-calls.html',\n",
       "   'title': 'North Korea’s BlueNoroff uses AI deepfakes to push Mac malware in fake Zoom calls - csoonline.com',\n",
       "   'score': 0.20429464,\n",
       "   'published_date': 'Thu, 19 Jun 2025 12:06:34 GMT',\n",
       "   'content': 'News ### WormGPT returns: New malicious AI variants built on Grok and Mixtral uncovered By Shweta Sharma Jun 18, 2025 4 mins Generative AI Malware SecurityNews ### Malicious PyPI package targets Chimera users to steal AWS tokens, CI/CD secrets By Shweta Sharma Jun 17, 2025 4 mins Developer Malware SecurityNews ### Major infostealer network taken down in Interpol raid By Viktor Eriksson Jun 12, 2025 2 mins Identity and Access Management Malware Security news ### North Korea’s BlueNoroff uses AI deepfakes to push Mac malware in fake Zoom calls By Shweta Sharma Jun 19, 2025 4 mins Malware Image 4: Image video ### CSO Executive Sessions: How AI and LLMs are affecting security in the financial services industry Mar 20, 2025 13 mins CSO and CISO Financial Services Industry Security Operations Center Image 12: Image',\n",
       "   'raw_content': None},\n",
       "  {'url': 'https://www.businesswire.com/news/home/20250625618546/en/Legion-Technologies-Named-AI-based-Workforce-Management-Solution-of-the-Year-in-2025-AI-Breakthrough-Awards-Program',\n",
       "   'title': 'Legion Technologies Named “AI-based Workforce Management Solution of the Year” in 2025 AI Breakthrough Awards Program - Business Wire',\n",
       "   'score': 0.19461295,\n",
       "   'published_date': 'Wed, 25 Jun 2025 14:00:00 GMT',\n",
       "   'content': 'Legion Technologies Named “AI-based Workforce Management Solution of the Year” in 2025 AI Breakthrough Awards Program **Legion Technologies Named “AI-based Workforce Management Solution of the Year” in 2025 AI Breakthrough Awards Program** REDWOOD CITY, Calif.--(BUSINESS WIRE)--Legion Technologies, an innovator in workforce management, today announced that its Legion AI platform has been named “AI-based Workforce Management Solution of the Year” in the 8 th annual AI Breakthrough Awards program conducted by AI Breakthrough, a leading market intelligence organization that recognizes the top companies, technologies and products in the global Artificial Intelligence (AI) market today. SANTA CLARA, Calif.--(BUSINESS WIRE)--Legion Technologies, an innovator in workforce management, today announced it has been named a winner in the 2025 Artificial Intelligence Excellence Awards, presented by the Business Intelligence Group, for the fourth consecutive year.',\n",
       "   'raw_content': None},\n",
       "  {'url': 'https://www.autonews.com/technology/mobility/an-trump-ai-vehicle-regulation-0623/',\n",
       "   'title': 'Here’s how Trump is deregulating AI and autonomous vehicles - Automotive News',\n",
       "   'score': 0.18343301,\n",
       "   'published_date': 'Mon, 23 Jun 2025 11:53:00 GMT',\n",
       "   'content': 'Trump moves to deregulate AI and autonomous vehicles - Automotive News Trump Tariffs Trump TariffsAN 100 AN 100Latest News Latest NewsData Center Data CenterEvents EventsAwards AwardsDigital Edition Digital EditionJobs Board Jobs Board Here’s how Trump is deregulating AI and autonomous vehicles The Trump administration has made several meaningful changes to policies governing autonomous vehicles and has prioritized deregulating artificial intelligence, which powers driver-assistance functions and robotaxis. Image 5: Here’s our 2025 list of the top global parts suppliers Image 7: Parts makers on top suppliers lists adapt to trade, EV, software challenges Image 11: Tesla robotaxi hits Austin streets in limited launch with safety monitor, select riders Here’s how Trump is deregulating AI and autonomous vehicles Image 14 Image 17',\n",
       "   'raw_content': None},\n",
       "  {'url': 'https://www.fintechfutures.com/ai-in-fintech/reimagining-banking-in-the-age-of-ai',\n",
       "   'title': 'Reimagining banking in the age of AI - FinTech Futures',\n",
       "   'score': 0.17968917,\n",
       "   'published_date': 'Mon, 23 Jun 2025 04:35:08 GMT',\n",
       "   'content': 'Image 2: FinTech Futures FinTech *   AI in Fintech Danske Bank - fintech newsImage 6Job Cuts & New Hires Lunar - fintech newsImage 8Challenger Banks *   AI in Fintech *   FinTech Image 16: AI - fintech news Danske Bank - fintech newsImage 20 What the FinTech? What the FinTech? Agentic AI - fintech newsImage 26 AI in Fintech Webinar | 1 May 2025 | Banking on agentic AI: The future of autonomous financial services Webinar | 1 May 2025 | Banking on agentic AI: The future of autonomous financial services Image 30: FinTech Futures The information collected might relate to you, your preferences or your device, and is mostly used to make the site work as you expect it to and to provide a more personalized web experience.',\n",
       "   'raw_content': None},\n",
       "  {'url': 'https://www.miragenews.com/ai-boosts-not-hurts-workforce-1482889/',\n",
       "   'title': 'AI Boosts, Not Hurts, Workforce - Mirage News',\n",
       "   'score': 0.17473425,\n",
       "   'published_date': 'Mon, 23 Jun 2025 13:52:00 GMT',\n",
       "   'content': \"AI Boosts, Not Hurts, Workforce | Mirage News As artificial intelligence reshapes workplaces worldwide, a new study provides early evidence suggesting AI exposure has not, thus far, caused widespread harm to workers' mental health or job satisfaction. In fact, the data reveals that AI may even be linked to modest improvements in worker physical health, particularly among employees with less than a college degree. *   No significant average effects of AI exposure on job satisfaction, life satisfaction, or mental health. Tags:Europe , university , Germany , German , technology , employment , european , Berlin , AI , monitoring , Professor , intelligence , artificial intelligence , mental health , University of Pittsburgh , Scientific Reports\",\n",
       "   'raw_content': None}],\n",
       " 'response_time': 0.28}"
      ]
     },
     "execution_count": 13,
     "metadata": {},
     "output_type": "execute_result"
    }
   ],
   "source": [
    "response"
   ]
  },
  {
   "cell_type": "code",
   "execution_count": 14,
   "metadata": {},
   "outputs": [],
   "source": [
    "response2 = tavily.search(\n",
    "                query = \"Merchant / Shop : SKVP Shirley\",\n",
    "                include_answer=\"advanced\",\n",
    "                max_results=1,\n",
    "                )"
   ]
  },
  {
   "cell_type": "code",
   "execution_count": 15,
   "metadata": {},
   "outputs": [
    {
     "data": {
      "text/plain": [
       "{'query': 'Merchant / Shop : SKVP Shirley',\n",
       " 'follow_up_questions': None,\n",
       " 'answer': \"Shree Krishna Vada Pav (SKVP) is an Indian vegetarian and vegan eatery located on Shirley High Street in Solihull. The restaurant specializes in authentic Indian street food that is known for being both spicy and flavorful. Their signature dish is the Vada Pav, which features a spicy potato filling that's deep-fried in gram flour batter and served in a bap bread with three different chutneys and fried accompaniments. SKVP offers a variety of delicious Indian street food snacks, making it a popular destination for those seeking authentic vegetarian Indian cuisine in the Shirley area.\",\n",
       " 'images': [],\n",
       " 'results': [{'title': 'Shree Krishna Vada Pav (SKVP) - Solihull - Wanderlog',\n",
       "   'url': 'https://wanderlog.com/place/details/1282614/shree-krishna-vada-pav-skvp-solihull',\n",
       "   'content': 'Shree Krishna Vada Pav (SKVP) - Solihull is an Indian vegetarian/vegan eatery situated on Shirley High Street. They specialize in a variety of delicious Indian street food snacks, which are both spicy and flavorful. One of their popular dishes is the Vada Pav, consisting of a spicy potato filling deep-fried in a gram flour batter and served in a bap with three different chutneys and fried',\n",
       "   'score': 0.6133529,\n",
       "   'raw_content': None}],\n",
       " 'response_time': 6.61}"
      ]
     },
     "execution_count": 15,
     "metadata": {},
     "output_type": "execute_result"
    }
   ],
   "source": [
    "response2"
   ]
  },
  {
   "cell_type": "code",
   "execution_count": 16,
   "metadata": {},
   "outputs": [],
   "source": [
    "response3 = tavily.search(\n",
    "                query = \"Top Artificial Intelligence (AI) papers in news\",\n",
    "                topic = \"news\",\n",
    "                time_range = 'm',\n",
    "                include_answer=\"advanced\",\n",
    "                max_results=20,\n",
    "                days = 30\n",
    "                )"
   ]
  },
  {
   "cell_type": "code",
   "execution_count": 17,
   "metadata": {},
   "outputs": [
    {
     "data": {
      "text/plain": [
       "{'query': 'Top Artificial Intelligence (AI) papers in news',\n",
       " 'follow_up_questions': None,\n",
       " 'answer': '# Top Artificial Intelligence (AI) Papers in News\\n\\nRecent AI research papers making headlines include Apple\\'s study revealing \"complete accuracy collapse\" in large reasoning models (LRMs) when faced with complex problems. MIT and other institutions demonstrated the successful training of a large language model using only ethically-sourced data, contradicting industry claims this was \"impossible.\" A study found AI exposure hasn\\'t harmed workers\\' mental health or job satisfaction, and may even improve physical health among less-educated workers.\\n\\nOther notable papers include research on self-trained vision transformers mimicking human gaze with precision, GPT-4o exhibiting humanlike cognitive dissonance, and a new transformer architecture that emulates imagination and higher-level human mental states. Research on AI\\'s position bias shows how LLM architecture and training data shape this phenomenon, while another study found some AI prompts could cause 50 times more CO₂ emissions than others. Additionally, researchers have developed a vision-language model that creates plans for automated inspection of environments.',\n",
       " 'images': [],\n",
       " 'results': [{'url': 'https://techxplore.com/news/2025-05-vision-mimic-human-precision.html',\n",
       "   'title': 'Self-trained vision transformers mimic human gaze with surprising precision - Tech Xplore',\n",
       "   'score': 0.61057013,\n",
       "   'published_date': 'Mon, 26 May 2025 16:58:35 GMT',\n",
       "   'content': \"##### AI model pinpoints sources of driver stress, paving the way for smart driving assistants 2 hours ago ##### Tool automatically separates training and test data to improve AI evaluation 2 hours ago ##### Dark LLMs: It's still easy to trick most AI chatbots into providing harmful information, study finds 2 hours ago ##### Engineered interface layer extends life and enhances safety of next-generation lithium-metal batteries 3 hours ago ##### Exploring the seas with self-powered jellyfish cyborgs 4 hours ago ##### Golden Dome: An aerospace engineer explains the proposed nationwide missile defense system May 24, 2025 ##### AI may soon account for half of data center power use if trends persist May 24, 2025 ##### Verification framework uncovers safety lapses in open-source self-driving system May 23, 2025 ##### A new approach could fractionate crude oil using much less energy May 22, 2025 ##### Geometric adjustment helps boost efficiency and durability of perovskite photovoltaic cells May 22, 2025\",\n",
       "   'raw_content': None},\n",
       "  {'url': 'https://www.theguardian.com/technology/2025/jun/09/apple-artificial-intelligence-ai-study-collapse',\n",
       "   'title': 'Advanced AI suffers ‘complete accuracy collapse’ in face of complex problems, study finds - The Guardian',\n",
       "   'score': 0.60861784,\n",
       "   'published_date': 'Mon, 09 Jun 2025 19:42:00 GMT',\n",
       "   'content': 'Advanced AI suffers ‘complete accuracy collapse’ in face of complex problems, study finds | Artificial intelligence (AI) | The Guardian Apple said in a paper published at the weekend that large reasoning models (LRMs) – an advanced form of AI – faced a “complete accuracy collapse” when presented with highly complex problems. *   Image 9   ### Chinese tech firms freeze AI tools in crackdown on exam cheats 17h ago        *   Image 10   ### UK government signals it will not force tech firms to disclose how they train AI 3d ago        *   Image 21   ### China Chinese tech firms freeze AI tools in crackdown on exam cheats 17h ago        *   Image 23   ### Technology AI takes backseat as Apple unveils software revamp and new apps 3h ago       ',\n",
       "   'raw_content': None},\n",
       "  {'url': 'https://developingtelecoms.com/telecom-technology/data-centres-networks/18609-khazna-and-nvidia-to-build-ai-factories-in-mea.html',\n",
       "   'title': 'Khazna and Nvidia to build AI factories in MEA - Developing Telecoms',\n",
       "   'score': 0.55709904,\n",
       "   'published_date': 'Wed, 11 Jun 2025 13:31:18 GMT',\n",
       "   'content': '- [x]  I agree with the Terms and conditions×    and the Privacy policy× By accepting occasional e-mails from our partners, inviting you to download articles, white papers and attend events, you are helping fund free access to this valuable news service for emerging markets. Image 10: Khazna and Nvidia to build AI factories in MEA UAE-headquartered digital infrastructure company Khazna Data Centres has announced plans to collaborate with multinational corporation and technology company Nvidia to build artificial intelligence (AI) factories in the Middle East Africa (MEA) region. Image 15: G42 and OpenAI to bring generative AI models to organisations in the UAEG42 to build 5GW AI data centre campus in UAE for US hyperscalers Image 24: YTL and Nvidia to build AI data centre in JohorMalaysian and Indonesian data centres promote AI-ready designs',\n",
       "   'raw_content': None},\n",
       "  {'url': 'https://gizmodo.com/judge-finds-ai-companies-can-use-some-copyrighted-works-to-fuel-their-sludge-2000619677',\n",
       "   'title': 'Judge Rules AI Companies Can Use Some Copyrighted Works to Fuel Their Sludge - Gizmodo',\n",
       "   'score': 0.5515985,\n",
       "   'published_date': 'Tue, 24 Jun 2025 20:10:53 GMT',\n",
       "   'content': 'Get the best tech, science, and culture news in your inbox daily. *   Image 5: The Grok logo is being displayed on a smartphone screen in Athens, Greece, on July 22, 2024.Tech News Elon Musk’s AI Called My Mother Abusive. *   Image 7: Elon Musk on May 30, 2025 in the Oval Office of the White House in Washington.Tech News Artificial Intelligence Elon Says He’s Working to ‘Fix’ Grok After AI Disagrees With Him on Right-Wing Violence --------------------------------------------------------------------------------------- Musk thinks his AI is corrupted by the \"legacy media.\" By Matt Novak Published June 18, 2025     *   Image 9: Anti Ice Protests In Los Angeles June 12Tech News Artificial Intelligence I Asked AI to Create a Pro-ICE Chant.',\n",
       "   'raw_content': None},\n",
       "  {'url': 'https://www.newsweek.com/nw-ai/ai-impact-awards-2025-science-engineering-2084754',\n",
       "   'title': 'AI Impact Awards 2025: The Changing Human Role in Science and Engineering - Newsweek',\n",
       "   'score': 0.5457947,\n",
       "   'published_date': 'Wed, 25 Jun 2025 10:02:01 GMT',\n",
       "   'content': \"AI Impact Awards 2025: The Changing Human Role in Science and Engineering - Newsweek Anuj Kapur, the president and CEO of software delivery company CloudBees, said artificial intelligence (AI) will help solve many of humanity's most pressing problems. Image 4: AI Impact Awards: Science and Engineering CloudBees is one of the companies recognized by _Newsweek's_ AI Impact Awards, which highlights companies across a dozen industries that are adopting AI tools to improve both internal and external operations for their business and their clients. Every Cure is the overall winner of _Newsweek's_ AI Impact Awards and it's using AI to advance drug engineering to treat some of the world's rarest and most aggressive diseases. NEWSWEEK.AI - [x] Newsweek AI (Weekly) \",\n",
       "   'raw_content': None},\n",
       "  {'url': 'https://futurism.com/anthropic-ai-destroy-jobs',\n",
       "   'title': 'CEO of Anthropic Warns That AI Will Destroy Huge Proportion of Well-Paying Jobs - futurism.com',\n",
       "   'score': 0.50944775,\n",
       "   'published_date': 'Thu, 29 May 2025 15:16:29 GMT',\n",
       "   'content': '/Artificial Intelligence/Ai/Anthropic/Labor While Amodei — who has a financial and political interest in selling the narrative of an all-powerful AI future — might think that human-level LLMs are right around the corner, most serious computer science researchers disagree. Image 5: RFK Jr\\'s \"Make America Healthy Again\" Report Cites Studies That Don\\'t Exist, in Clear Sign of AI Generated Slop Scientific Meth May 29, 1:07 PM EDT on futurism RFK Jr\\'s \"Make America Healthy Again\" Report Cites Studies That Don\\'t Exist, in Clear Sign of AI Generated SlopImage 6: Women With Body Image Issues Are Asking ChatGPT Something Terrible Talking Body May 28, 3:07 PM EDT on futurism Women With Body Image Issues Are Asking ChatGPT Something TerribleImage 7: You May Laugh When You Hear What OpenAI\\'s Top Secret AI Gadget Allegedly Looks Like Futile Devices May 27, 4:30 PM EDT on futurism You May Laugh When You Hear What OpenAI\\'s Top Secret AI Gadget Allegedly Looks LikeREAD MORE STORIES ABOUT/ Artificial Intelligence',\n",
       "   'raw_content': None},\n",
       "  {'url': 'https://spacenews.com/new-report-details-chinas-push-to-dominate-artificial-intelligence/',\n",
       "   'title': 'New report details China’s push to dominate artificial intelligence - SpaceNews',\n",
       "   'score': 0.5069581,\n",
       "   'published_date': 'Thu, 29 May 2025 18:16:41 GMT',\n",
       "   'content': 'New report details China’s push to dominate artificial intelligence - SpaceNews New report details China’s push to dominate artificial intelligence A new report titled “China’s AI Infrastructure Surge,” released May 29 by the Special Competitive Studies Project and the intelligence firm Strider Technologies, describes a sweeping, state-led initiative to build out the physical backbone of AI dominance: massive data centers across the country, with plans that now stretch beyond Earth’s atmosphere. The report says China has built or announced more than 250 AI-focused data centers nationwide. “The PRC is executing a state-directed campaign to dominate global artificial intelligence,” the report states, pointing to AI as a linchpin for China’s broader ambitions in tech leadership and military modernization.',\n",
       "   'raw_content': None},\n",
       "  {'url': 'https://www.investopedia.com/amazon-s-ceo-tells-staff-ai-could-lead-to-a-smaller-corporate-workforce-11756555',\n",
       "   'title': \"Amazon's CEO Tells Staff AI Could Lead to a Smaller Corporate Workforce - Investopedia\",\n",
       "   'score': 0.5065188,\n",
       "   'published_date': 'Tue, 17 Jun 2025 21:29:00 GMT',\n",
       "   'content': 'Image 3: Nvidia CEO Jensen Huang at VivaTech in Paris.:max_bytes(150000):strip_icc():format(webp)/GettyImages-2219673294-fbe6a9e72afa488c8fbcbe8ab6bcb72d.jpg) What Nvidia\\'s Jensen Huang and OpenAI\\'s Sam Altman Had to Say This Week About AI and JobsImage 5: The Amazon Prime Day logo.:max_bytes(150000):strip_icc():format(webp)/GettyImages-2212700240-37be0b134f3f4ce6baa9981c814fdc3c.jpg) Amazon Extends Prime Day Event to Four DaysImage 7: CEO Sundar Pichai addresses the crowd during Google\\'s annual I/O developers conference.:max_bytes(150000):strip_icc():format(webp)/GettyImages-2215577822-47a75431e5254defb1dd57019a2c8389.jpg) Google Buyouts Could Point to More Tech Layoffs, as Sector Faces Heavy Job LossesImage 9: AMD\\'s \"Advancing AI\" event:max_bytes(150000):strip_icc():format(webp)/Screenshot2025-06-12at4.58.35PM-2a3e218f561c45d09abce715571008a6.jpeg) AMD Unveils Its Latest Chips, With ChatGPT Maker OpenAI Among Its CustomersImage 11: Nvidia CEO Jensen Huang meets German Chancellor Friedrich Merz.:max_bytes(150000):strip_icc():format(webp)/GettyImages-2219239037-f48729853bf84914aced2538b5e029a3.jpg) Why Oppenheimer Is Excited About Nvidia\\'s Potential Gains From Sovereign AI DemandImage 13: Open AI CEO Sam Altman speaks during Snowflake Summit 2025.:max_bytes(150000):strip_icc():format(webp)/GettyImages-2218344211-86cd046e842a44d0a4e33bd185d837b3.jpg) \\'ChatGPT Is Already More Powerful Than Any Human,\\' OpenAI CEO Sam Altman SaysImage 15: Scale AI headquarters.:max_bytes(150000):strip_icc():format(webp)/GettyImages-2218457787-7afaea4355494f25acce8a6b5fa05785.jpg) Meta Invests Big in Startup Scale AI, Brings On Its CEO for AI Development EffortsImage 17: People pass the shop front for the media brand Disney Store on London\\'s Oxford Street interacting with stormtrooper figures from the Star Wars films on May 7, 2025:max_bytes(150000):strip_icc():format(webp)/GettyImages-2217902300-c0d3508e1e104b6ebdf25b82bb0cd92c.jpg) Disney, Universal Sue AI Image Creator Over Alleged Copyright Infringement',\n",
       "   'raw_content': None},\n",
       "  {'url': 'https://techxplore.com/news/2025-06-powered-artificial-synapse-mimics-human.html',\n",
       "   'title': 'Self-powered artificial synapse mimics human color vision - Tech Xplore',\n",
       "   'score': 0.50241756,\n",
       "   'published_date': 'Mon, 02 Jun 2025 15:10:06 GMT',\n",
       "   'content': \"Image 5 ##### Robotic table tennis system predicts ball trajectory and adapts swing in real time May 31, 2025Image 6 ##### Google is going 'all in' on AI: It's part of a troubling trend in big tech May 30, 2025Image 7 ##### Google makes case for keeping Chrome browser May 30, 2025Image 8 ##### Engineers develop self-healing muscle for robots May 30, 2025Image 9 ##### Smart software replaces expensive sensors for glass wall detection with 96% accuracy May 30, 2025Image 10 ##### AI approach developed with human decision-makers in mind May 30, 2025Image 11 ##### New research method provides deeper insights into the cost of power outages May 30, 2025Image 12 ##### Robot navigates high-speed parkour with autonomous movement planning May 30, 2025Image 13 ##### Accelerating the arrival of fault-tolerant quantum computers with next-generation materials May 30, 2025Image 14 ##### Burning out?\",\n",
       "   'raw_content': None},\n",
       "  {'url': 'https://gizmodo.com/elon-musks-xai-is-reportedly-burning-through-1-billion-a-month-2000617458',\n",
       "   'title': 'Elon Musk’s xAI Is Reportedly Burning Through $1 Billion a Month - Gizmodo',\n",
       "   'score': 0.49758363,\n",
       "   'published_date': 'Wed, 18 Jun 2025 18:10:36 GMT',\n",
       "   'content': '*   Image 4: Elon Musk on May 30, 2025 in the Oval Office of the White House in Washington.Tech News Artificial Intelligence Elon Says He’s Working to ‘Fix’ Grok After AI Disagrees With Him on Right-Wing Violence --------------------------------------------------------------------------------------- Musk thinks his AI is corrupted by the \"legacy media.\" By Matt Novak Published June 18, 2025     *   Image 7: Anti Ice Protests In Los Angeles June 12Tech News Artificial Intelligence I Asked AI to Create a Pro-ICE Chant. *   Image 8: Anti Ice Protests In Los Angeles June 12Tech News Artificial Intelligence I Asked AI to Write a Protest Chant.',\n",
       "   'raw_content': None},\n",
       "  {'url': 'https://techxplore.com/news/2025-05-robot-morphs-midair-flying-terrain.html',\n",
       "   'title': 'Robot morphs midair to switch from flying to rolling on terrain - Tech Xplore',\n",
       "   'score': 0.493043,\n",
       "   'published_date': 'Wed, 28 May 2025 20:02:12 GMT',\n",
       "   'content': \"##### Razor-thin solution makes fuel cells cheaper and more environmentally friendly 1 hour ago ##### Team teaches AI models to spot misleading scientific reporting 1 hour ago ##### A new transformer architecture emulates imagination and higher-level human mental states 4 hours ago ##### Ultra-thin protective coating boosts cadmium telluride solar cell performance by 13% 19 hours ago ##### GPT-4o exhibits humanlike cognitive dissonance, study finds 21 hours ago ##### Composite material keeps solar panels cool, boosting longevity by more than 200% 23 hours ago ##### Algorithm improves acoustic sensor accuracy for cheaper underwater robotics May 28, 2025 ##### Soft robots can walk themselves out of a 3D printer May 28, 2025 ##### Electric buses don't like the cold, study finds May 28, 2025 ##### Five things to do in virtual reality—and five to avoid May 28, 2025\",\n",
       "   'raw_content': None},\n",
       "  {'url': 'https://futurism.com/ai-built-ethical-data',\n",
       "   'title': 'The Tech Industry Said It Was \"Impossible\" to Create AI Based Entirely on Ethically-Sourced Data, So These Scientists Proved Them Wrong in Spectacular Fashion - futurism.com',\n",
       "   'score': 0.48689327,\n",
       "   'published_date': 'Sat, 07 Jun 2025 15:15:35 GMT',\n",
       "   'content': \"A team of more than two dozen AI researchers from MIT, Cornell University, the University of Toronto, and other institutions have trained a large language model only using data that was openly licensed or in the public domain, the _Washington Post_reports, providing a blueprint for ethically developing the technology. Image 7: A Billionaire Is Buying Entire Businesses and Converting Them to Run With AI Rolled Up Jun 7, 1:30 PM EDT on futurism A Billionaire Is Buying Entire Businesses and Converting Them to Run With AIImage 8: Godfather of AI Alarmed as Advanced Systems Quickly Learning to Lie, Deceive, Blackmail and Hack Expert Warning Jun 7, 9:45 AM EDT on futurism Godfather of AI Alarmed as Advanced Systems Quickly Learning to Lie, Deceive, Blackmail and HackImage 9: If You Thought Facebook Was Toxic Already, Now It's Replacing Its Human Moderators with AI Suspicious Compliance Jun 4, 5:11 PM EDT on futurism If You Thought Facebook Was Toxic Already, Now It's Replacing Its Human Moderators with AIREAD MORE STORIES ABOUT/ Artificial Intelligence\",\n",
       "   'raw_content': None},\n",
       "  {'url': 'https://www.pymnts.com/technology/2025/uber-partners-up-for-margin-gains-via-fully-self-driving-taxis/',\n",
       "   'title': 'Uber Partners Up for Margin Gains via Fully Self-Driving Taxis - PYMNTS.com',\n",
       "   'score': 0.48411235,\n",
       "   'published_date': 'Tue, 10 Jun 2025 08:03:45 GMT',\n",
       "   'content': 'See More In: AI, artificial intelligence, automotive, Autonomous vehicles, Edwin Olson, Featured News, logistics, May Mobility, News, PYMNTS News, pymnts tv, ride-hailing, Ridesharing, Self-Driving Cars, Technology, Uber, video In complex industries like payments, AI is a powerful tool for data analysis and automation, but it lacks the contextual judgment, creativity and emotional intelligence that only human experts can provide. Ultimately, we can speed up by building an AI-driven data analysis process,” Downey said. Image 9: Maverick AI Models Arm Payment Processors With Real-Time Risk Intelligence See More In: AI, artificial intelligence, data analytics, Featured News, human intelligence, Justin Downey, Maverick Payments, News, payments, PYMNTS News, pymnts tv, Technology, video',\n",
       "   'raw_content': None},\n",
       "  {'url': 'https://www.csoonline.com/article/3997999/microsoft-entras-billing-roles-pose-privilege-escalation-risks-in-azure.html',\n",
       "   'title': 'Microsoft Entra’s billing roles pose privilege escalation risks in Azure - csoonline.com',\n",
       "   'score': 0.47270843,\n",
       "   'published_date': 'Thu, 29 May 2025 11:50:57 GMT',\n",
       "   'content': 'News ### Risk assessment vital when choosing an AI model, say experts By Howard Solomon May 28, 2025 4 mins Artificial Intelligence Risk Management SecurityNews ### If you use OneDrive to upload files to ChatGPT or Zoom, don’t By Shweta Sharma May 28, 2025 5 mins Security VulnerabilitiesBrandPost Sponsored by Black Duck Software, Inc. news ### Microsoft Entra’s billing roles pose privilege escalation risks in Azure By Shweta Sharma May 29, 2025 4 mins Identity and Access Management Security Vulnerabilities  podcast ### CSO Executive Sessions: How AI and LLMs are affecting security in the financial services industry Mar 20, 2025 13 mins CSO and CISO Financial Services Industry Security Operations Center ',\n",
       "   'raw_content': None},\n",
       "  {'url': 'https://techxplore.com/news/2025-06-justice-stake-generative-ai-courtroom.html',\n",
       "   'title': 'Justice at stake as generative AI enters the courtroom - Tech Xplore',\n",
       "   'score': 0.47139415,\n",
       "   'published_date': 'Thu, 19 Jun 2025 08:43:23 GMT',\n",
       "   'content': \"*   ### Recommended for you Image 20 ##### Vision-language model creates plans for automated inspection of environments 1 hour agoImage 21 ##### Some AI prompts could cause 50 times more CO₂ emissions than others, researchers find 9 hours agoImage 22 ##### Psycholinguist talks nonsense to ChatGPT to understand how it processes language 17 hours ago Image 23 ##### Seeing through a new LENS allows brain-like navigation in robots 19 hours agoImage 24 ##### New system reliably controls prosthetic hand movements without relying on biological signals Jun 18, 2025Image 25 ##### Lost in the middle: How LLM architecture and training data shape AI's position bias Jun 17, 2025 \",\n",
       "   'raw_content': None},\n",
       "  {'url': 'https://www.miragenews.com/ai-boosts-not-hurts-workforce-1482889/',\n",
       "   'title': 'AI Boosts, Not Hurts, Workforce - Mirage News',\n",
       "   'score': 0.46016815,\n",
       "   'published_date': 'Mon, 23 Jun 2025 13:52:00 GMT',\n",
       "   'content': \"AI Boosts, Not Hurts, Workforce | Mirage News As artificial intelligence reshapes workplaces worldwide, a new study provides early evidence suggesting AI exposure has not, thus far, caused widespread harm to workers' mental health or job satisfaction. In fact, the data reveals that AI may even be linked to modest improvements in worker physical health, particularly among employees with less than a college degree. *   No significant average effects of AI exposure on job satisfaction, life satisfaction, or mental health. Tags:Europe , university , Germany , German , technology , employment , european , Berlin , AI , monitoring , Professor , intelligence , artificial intelligence , mental health , University of Pittsburgh , Scientific Reports\",\n",
       "   'raw_content': None},\n",
       "  {'url': 'https://www.clickorlando.com/business/2025/06/18/amazon-ceo-jassy-says-ai-will-reduce-its-corporate-workforce-in-the-next-few-years/',\n",
       "   'title': 'Amazon CEO Jassy says AI will reduce its corporate workforce in the next few years - WKMG',\n",
       "   'score': 0.45856747,\n",
       "   'published_date': 'Wed, 18 Jun 2025 13:59:20 GMT',\n",
       "   'content': \"Open the WKMG News 6 & ClickOrlando Help Desk *       *   News *       *   News 6+ *   News Amazon CEO Andy Jassy anticipates generative artificial intelligence will reduce its corporate workforce in the next few years as the online giant begins to increase its usage of the technology. Two months earlier chipmaker Intel said that its foundry business would make some custom artificial intelligence chips for Amazon Web Services, which is Amazon's cloud computing unit and a main driver of its artificial intelligence ambitions. In our commitment to covering our communities with innovation and excellence, we incorporate Artificial Intelligence (AI) technologies to enhance our news gathering, reporting, and presentation processes.Read our articleto see how we are using Artificial Intelligence.\",\n",
       "   'raw_content': None},\n",
       "  {'url': 'https://www.insurancejournal.com/news/international/2025/06/10/826862.htm',\n",
       "   'title': 'UK Judge Warns of Risk to Justice After Lawyers Cited Fake AI-Generated Court Cases - Insurance Journal',\n",
       "   'score': 0.44189036,\n",
       "   'published_date': 'Tue, 10 Jun 2025 05:13:52 GMT',\n",
       "   'content': 'UK Judge Warns of Risk to Justice After Lawyers Cited Fake AI-Generated Court Cases Image 1: Insurance Journal - Property Casualty Industry News UK Judge Warns of Risk to Justice After Lawyers Cited Fake AI-Generated Court Cases Lawyers have cited fake cases generated by artificial intelligence in court proceedings in England, a judge has said — warning that attorneys could be prosecuted if they don’t check the accuracy of their research. *   **Categories:**International & Reinsurance News**Topics:**AI hallucinations, artificial intelligence (AI), cyber, cyber insurance, Professional/Management/Employers Liability Image 10UK Judge Warns of Risk to Justice After Lawyers Cited Fake AI-Generated Court Cases *   UK Judge Warns of Risk to Justice After Lawyers Cited Fake AI-Generated Court Cases',\n",
       "   'raw_content': None},\n",
       "  {'url': 'https://futurism.com/companies-replaced-workers-ai',\n",
       "   'title': 'Companies That Replaced Humans With AI Are Realizing Their Mistake - Futurism',\n",
       "   'score': 0.43813655,\n",
       "   'published_date': 'Wed, 18 Jun 2025 15:10:39 GMT',\n",
       "   'content': \"Image 7: Desperate Zuckerberg Apparently Offering OpenAI Staffers $100 Million Bonuses to Come Save His Failing AI Efforts Deep Poaching Jun 18, 2:17 PM EDT on futurism Desperate Zuckerberg Apparently Offering OpenAI Staffers $100 Million Bonuses to Come Save His Failing AI EffortsImage 8: Nation Cringes as Man Goes on TV to Declare That He's in Love With ChatGPT Pyg-fail-ion Jun 17, 5:05 PM EDT on futurism Nation Cringes as Man Goes on TV to Declare That He's in Love With ChatGPTImage 9: As ChatGPT Linked to Mental Health Breakdowns, Mattel Announces Plans to Incorporate It Into Children's Toys Barbie's AI Playhouse Jun 17, 4:08 PM EDT on futurism As ChatGPT Linked to Mental Health Breakdowns, Mattel Announces Plans to Incorporate It Into Children's ToysREAD MORE STORIES ABOUT/ Artificial Intelligence\",\n",
       "   'raw_content': None},\n",
       "  {'url': 'https://www.rcrwireless.com/20250611/ai-ml/ai-infrastructure',\n",
       "   'title': 'Is the US ready for the AI infrastructure boom? (Reader Forum) - RCR Wireless News',\n",
       "   'score': 0.43194416,\n",
       "   'published_date': 'Wed, 11 Jun 2025 15:35:15 GMT',\n",
       "   'content': 'Recently, OpenAI announced the Stargate Project — a $500 billion investment in infrastructure to support artificial intelligence (AI) technology. Although this investment is necessary to support the booming growth of artificial intelligence, some have begun to question the potential impact this expansion in infrastructure will have on the United States and the rest of the world. Leaders in AI, businesses, and key lawmakers from around the world must collaborate to develop a set of global standards for the ethical and fair use of artificial intelligence technology. Artificial intelligence is a tool that can and will have a positive impact on the world, but to support its growth, there must also be an expansion in the infrastructure needed to support it.',\n",
       "   'raw_content': None}],\n",
       " 'response_time': 11.96}"
      ]
     },
     "execution_count": 17,
     "metadata": {},
     "output_type": "execute_result"
    }
   ],
   "source": [
    "response3"
   ]
  }
 ],
 "metadata": {
  "kernelspec": {
   "display_name": ".venv",
   "language": "python",
   "name": "python3"
  },
  "language_info": {
   "codemirror_mode": {
    "name": "ipython",
    "version": 3
   },
   "file_extension": ".py",
   "mimetype": "text/x-python",
   "name": "python",
   "nbconvert_exporter": "python",
   "pygments_lexer": "ipython3",
   "version": "3.13.0"
  }
 },
 "nbformat": 4,
 "nbformat_minor": 2
}
