{
 "cells": [
  {
   "cell_type": "code",
   "execution_count": 1,
   "metadata": {},
   "outputs": [],
   "source": [
    "from typing import Annotated, get_type_hints\n",
    "\n",
    "def calculate_distance(speed: Annotated[int, 'km/h'], time: Annotated[int, 'hours']) -> int:\n",
    "    print(type(speed))  # Prints: <class 'int'>\n",
    "    print(type(time))   # Prints: <class 'int'>\n",
    "    \n",
    "    # Get metadata (annotations) from the function parameters\n",
    "    type_hints = get_type_hints(calculate_distance, include_extras=True)\n",
    "    \n",
    "    # Extract metadata for 'speed' and 'time'\n",
    "    speed_metadata = type_hints['speed'].__metadata__[0]\n",
    "    time_metadata = type_hints['time'].__metadata__[0]\n",
    "    \n",
    "    print(f\"Speed unit: {speed_metadata}\")  # Prints: Speed unit: km/h\n",
    "    print(f\"Time unit: {time_metadata}\")   # Prints: Time unit: hours\n",
    "    \n",
    "    return speed * time\n",
    "\n"
   ]
  },
  {
   "cell_type": "code",
   "execution_count": 2,
   "metadata": {},
   "outputs": [
    {
     "name": "stdout",
     "output_type": "stream",
     "text": [
      "<class 'int'>\n",
      "<class 'int'>\n",
      "Speed unit: km/h\n",
      "Time unit: hours\n",
      "Distance: 120 km\n"
     ]
    }
   ],
   "source": [
    "# Test the function\n",
    "distance = calculate_distance(60, 2)\n",
    "print(f\"Distance: {distance} km\")  # Prints: Distance: 120 km"
   ]
  }
 ],
 "metadata": {
  "kernelspec": {
   "display_name": ".venv",
   "language": "python",
   "name": "python3"
  },
  "language_info": {
   "codemirror_mode": {
    "name": "ipython",
    "version": 3
   },
   "file_extension": ".py",
   "mimetype": "text/x-python",
   "name": "python",
   "nbconvert_exporter": "python",
   "pygments_lexer": "ipython3",
   "version": "3.13.0"
  }
 },
 "nbformat": 4,
 "nbformat_minor": 2
}
